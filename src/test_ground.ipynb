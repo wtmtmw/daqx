{
 "cells": [
  {
   "cell_type": "code",
   "execution_count": 37,
   "id": "6843fc23",
   "metadata": {},
   "outputs": [],
   "source": [
    "from daqx.util import createDevice\n",
    "import time\n",
    "import numpy as np\n",
    "from matplotlib import pyplot as plt"
   ]
  },
  {
   "cell_type": "markdown",
   "id": "78968c36-baa8-4f54-9f85-dfc02ab15e2a",
   "metadata": {},
   "source": [
    "### General DAQ setup"
   ]
  },
  {
   "cell_type": "code",
   "execution_count": 38,
   "id": "b5ad5bd1-2b7a-423c-95b1-6893685eafec",
   "metadata": {},
   "outputs": [],
   "source": [
    "daq = createDevice('mcc',0)\n",
    "daq.config_ai(0,1)\n",
    "daq.config_ao(0,1)"
   ]
  },
  {
   "cell_type": "code",
   "execution_count": 39,
   "id": "c5cc3bf3",
   "metadata": {},
   "outputs": [
    {
     "name": "stdout",
     "output_type": "stream",
     "text": [
      "AI has already stopped\n",
      "AO has already stopped\n"
     ]
    }
   ],
   "source": [
    "def foo(eventdata,*arg,**kwarg):\n",
    "    #print('callback executed')\n",
    "    if eventdata['event'] == 'samplesAcquiredFcn':\n",
    "        print(f'{time.ctime(eventdata[\"time\"])}: {eventdata[\"event\"]} called at {eventdata[\"samplesAcquired\"]}')\n",
    "    else:\n",
    "        print(f'{time.ctime(eventdata[\"time\"])}: {eventdata[\"event\"]} called with arg = {\"\".join(arg)}')\n",
    "\n",
    "def collectdata(eventdata,ai,N,obj):\n",
    "    print(f'{time.ctime(eventdata[\"time\"])}: {eventdata[\"event\"]} called at {eventdata[\"samplesAcquired\"]}')\n",
    "    timept, data = ai.getdata(N)\n",
    "    obj.time = np.hstack((obj.time,timept))\n",
    "    obj.data = np.hstack((obj.data,data))\n",
    "\n",
    "class daqdata:\n",
    "    def __init__(self,t,d):\n",
    "        self.time = t\n",
    "        self.data = d\n",
    "   \n",
    "aidata = daqdata([],[[],[]])"
   ]
  },
  {
   "cell_type": "markdown",
   "id": "3f7a856d",
   "metadata": {},
   "source": [
    "### Set up AI"
   ]
  },
  {
   "cell_type": "code",
   "execution_count": 40,
   "id": "a1ae9df5-cca3-4b58-91bf-cdfe17f7047b",
   "metadata": {},
   "outputs": [],
   "source": [
    "daq.ai.sampleRate = 1000 # Hz/channel\n",
    "daq.ai.grounding = 'single-ended' #e.g. single_ended\n",
    "daq.ai.iscontinuous = True # if True -> Inf\n",
    "#daq.ai.trigType = 'instant'\n",
    "daq.ai.trigType = 'digital-positive-edge'\n",
    "daq.ai.trigRepeat = 1\n",
    "daq.ai.trigFcn = (foo,'AItrig')\n",
    "daq.ai.samplesPerTrig = 900 # in samples/channel\n",
    "daq.ai.samplesAcquiredFcnCount = 1800 # in samples/channel; 0 means no function to be called\n",
    "#daq.ai.samplesAcquiredFcn = (foo,) # ',' makes it a tuple\n",
    "daq.ai.samplesAcquiredFcn = (collectdata,(daq.ai,daq.ai.samplesAcquiredFcnCount,aidata))\n",
    "# daq.ai.samplesAcquiredFcn = None\n",
    "daq.ai.startFcn = (foo,'AIstart')\n",
    "daq.ai.stopFcn = (foo,'AIstop')\n",
    "#daq.ai.aqMode = 'foreground' # acquisition mode\n",
    "daq.ai.aqMode = 'background' # acquisition mode  "
   ]
  },
  {
   "cell_type": "markdown",
   "id": "97847171",
   "metadata": {},
   "source": [
    "### Set up AO"
   ]
  },
  {
   "cell_type": "code",
   "execution_count": 41,
   "id": "67dbf630-35bf-46c9-9c02-6f5624a4389b",
   "metadata": {},
   "outputs": [],
   "source": [
    "# Parameters\n",
    "F1 = 10  # Hz\n",
    "A1 = 5.0  # +/- amplitude\n",
    "offset1 = 0  # No offset\n",
    "aoSR = 5*1000  # Hz\n",
    "duration = 1 # sec\n",
    "num_samples = int(aoSR * duration) # 1 sec of data\n",
    "\n",
    "# Generate a sine wave buffer\n",
    "t = np.linspace(0, duration, num_samples, endpoint=False)  # Time vector for cycle * one period\n",
    "aodata = np.zeros((2,int(aoSR * duration))) #2 channels\n",
    "aodata[0,0:5] = 2 #trigger points\n",
    "aodata[1,:] = A1 * np.sin(2 * np.pi * F1 * t) + offset1 #sine wave\n",
    "\n",
    "# Plotting\n",
    "# fig = plt.figure()\n",
    "# plt.plot(t,aodata[0,:])\n",
    "# plt.plot(t,aodata[1,:],color = 'r')\n",
    "# plt.grid(True)\n",
    "# fig.canvas.toolbar_position = 'top'\n",
    "\n",
    "# Prep AO\n",
    "daq.ao.sampleRate = aoSR\n",
    "daq.ao.endMode = 'zero'\n",
    "daq.ao.startFcn = (foo,'AOstart')\n",
    "daq.ao.stopFcn = (foo,'AOstop')\n",
    "\n",
    "daq.ao.putdata(aodata)"
   ]
  },
  {
   "cell_type": "markdown",
   "id": "64f417bc-291e-4308-898e-99c777ba516e",
   "metadata": {},
   "source": [
    "### Start AI,AO"
   ]
  },
  {
   "cell_type": "code",
   "execution_count": 42,
   "id": "b030c6ac-1d15-46a9-8124-72e768e577c4",
   "metadata": {},
   "outputs": [
    {
     "name": "stdout",
     "output_type": "stream",
     "text": [
      "Thu Jan  9 23:00:39 2025: AItrigFcn called with arg = AItrig\n",
      "Thu Jan  9 23:00:39 2025: AIstartFcn called with arg = AIstart\n",
      "Thu Jan  9 23:00:39 2025: AOstartFcn called with arg = AOstart\n"
     ]
    },
    {
     "name": "stdout",
     "output_type": "stream",
     "text": [
      "Thu Jan  9 23:00:40 2025: AItrigFcn called with arg = AItrig\n",
      "Thu Jan  9 23:00:41 2025: AItrigFcn called with arg = AItrig\n",
      "Thu Jan  9 23:00:41 2025: samplesAcquiredFcn called at 1920\n",
      "Thu Jan  9 23:00:42 2025: AItrigFcn called with arg = AItrig\n",
      "Thu Jan  9 23:00:43 2025: AItrigFcn called with arg = AItrig\n",
      "Thu Jan  9 23:00:43 2025: samplesAcquiredFcn called at 3712\n",
      "Thu Jan  9 23:00:44 2025: AItrigFcn called with arg = AItrig\n",
      "Thu Jan  9 23:00:45 2025: AItrigFcn called with arg = AItrig\n",
      "Thu Jan  9 23:00:45 2025: samplesAcquiredFcn called at 5504\n",
      "Thu Jan  9 23:00:46 2025: AItrigFcn called with arg = AItrig\n",
      "Thu Jan  9 23:00:47 2025: AItrigFcn called with arg = AItrig\n",
      "Thu Jan  9 23:00:47 2025: samplesAcquiredFcn called at 7296\n",
      "Thu Jan  9 23:00:48 2025: AItrigFcn called with arg = AItrig\n",
      "Thu Jan  9 23:00:49 2025: AItrigFcn called with arg = AItrig\n",
      "Thu Jan  9 23:00:49 2025: samplesAcquiredFcn called at 9088\n"
     ]
    }
   ],
   "source": [
    "aidata.time = []\n",
    "aidata.data = [[],[]]\n",
    "daq.ai.start()\n",
    "daq.ao.start()"
   ]
  },
  {
   "cell_type": "code",
   "execution_count": 43,
   "id": "fab3efd4",
   "metadata": {},
   "outputs": [
    {
     "name": "stdout",
     "output_type": "stream",
     "text": [
      "Acquisition is done\n",
      "win buffer freed\n",
      "Thu Jan  9 23:00:49 2025: AIstopFcn called with arg = AIstop\n",
      "Thu Jan  9 23:00:50 2025: AOstopFcn called with arg = AOstop\n"
     ]
    }
   ],
   "source": [
    "daq.ai.stop()\n",
    "daq.ao.stop()"
   ]
  },
  {
   "cell_type": "code",
   "execution_count": 44,
   "id": "b127d930",
   "metadata": {},
   "outputs": [
    {
     "data": {
      "text/plain": [
       "[<matplotlib.lines.Line2D at 0x2207ae0ca30>]"
      ]
     },
     "execution_count": 44,
     "metadata": {},
     "output_type": "execute_result"
    },
    {
     "data": {
      "image/png": "[encoded data removed]",
      "text/plain": [
       "<Figure size 640x480 with 1 Axes>"
      ]
     },
     "metadata": {},
     "output_type": "display_data"
    }
   ],
   "source": [
    "# print(len(daq.ai.data[0]))\n",
    "# print(len(daq.ai.data[1]))\n",
    "# plt.figure()\n",
    "# plt.plot(daq.ai.data[0])\n",
    "# plt.plot(daq.ai.data[1],'r')\n",
    "#aitime, aidata = daq.ai.getdata()\n",
    "plt.figure()\n",
    "plt.plot(aidata.time,aidata.data[0])\n",
    "plt.plot(aidata.time,aidata.data[1],'r')"
   ]
  },
  {
   "cell_type": "code",
   "execution_count": null,
   "id": "d371bae0",
   "metadata": {},
   "outputs": [],
   "source": [
    "# t0 = daq.ai._trigTime[0]\n",
    "# trigtime = [t-t0 for t in daq.ai._trigTime]\n",
    "# print(trigtime)\n"
   ]
  },
  {
   "cell_type": "code",
   "execution_count": null,
   "id": "559b6a7e-955a-4f42-930f-ea03ed00b7c0",
   "metadata": {},
   "outputs": [],
   "source": [
    "plt.close('all')"
   ]
  }
 ],
 "metadata": {
  "kernelspec": {
   "display_name": "base",
   "language": "python",
   "name": "python3"
  },
  "language_info": {
   "codemirror_mode": {
    "name": "ipython",
    "version": 3
   },
   "file_extension": ".py",
   "mimetype": "text/x-python",
   "name": "python",
   "nbconvert_exporter": "python",
   "pygments_lexer": "ipython3",
   "version": "3.10.14"
  }
 },
 "nbformat": 4,
 "nbformat_minor": 5
}
