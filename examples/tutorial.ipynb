{
 "cells": [
  {
   "cell_type": "code",
   "execution_count": 1,
   "id": "6843fc23",
   "metadata": {},
   "outputs": [],
   "source": [
    "from daqx.util import createDevice\n",
    "import time\n",
    "import numpy as np\n",
    "from matplotlib import pyplot as plt"
   ]
  },
  {
   "cell_type": "markdown",
   "id": "78968c36-baa8-4f54-9f85-dfc02ab15e2a",
   "metadata": {},
   "source": [
    "### General DAQ setup"
   ]
  },
  {
   "cell_type": "code",
   "execution_count": 2,
   "id": "b5ad5bd1-2b7a-423c-95b1-6893685eafec",
   "metadata": {},
   "outputs": [],
   "source": [
    "daqid = 0\n",
    "start_channel = 0 # start scanning at channel 0\n",
    "end_channel = 1 # end scanning at channel 1\n",
    "daq = createDevice('mcc',daqid)\n",
    "daq.config_ai(start_channel,end_channel)"
   ]
  },
  {
   "cell_type": "code",
   "execution_count": 3,
   "id": "525251e9",
   "metadata": {},
   "outputs": [
    {
     "name": "stdout",
     "output_type": "stream",
     "text": [
      "Acquisition is done\n",
      "win buffer freed\n"
     ]
    }
   ],
   "source": [
    "daq.ai.sampleRate = 1000                    # Hz/channel\n",
    "daq.ai.grounding = 'single-ended'           # Support 'single-ended','grounded','differential'\n",
    "daq.ai.trigType = 'instant'                 # support 'instant','digital-positive-edge'\n",
    "daq.ai.samplesPerTrig = 2000                # Samples/channel/trigger\n",
    "daq.ai.aqMode = 'foreground'                # acquisition mode - 'foreground','background'\n",
    "\n",
    "daq.ai.start()\n",
    "# after 2 seconds"
   ]
  },
  {
   "cell_type": "code",
   "execution_count": 4,
   "id": "935b61e3",
   "metadata": {},
   "outputs": [
    {
     "data": {
      "text/plain": [
       "[<matplotlib.lines.Line2D at 0x1b4ee6c9d10>]"
      ]
     },
     "execution_count": 4,
     "metadata": {},
     "output_type": "execute_result"
    },
    {
     "data": {
      "image/png": "[encoded data removed]",
      "text/plain": [
       "<Figure size 640x480 with 1 Axes>"
      ]
     },
     "metadata": {},
     "output_type": "display_data"
    }
   ],
   "source": [
    "aitime, aidata = daq.ai.getdata()\n",
    "plt.figure()\n",
    "plt.plot(aitime,aidata[0])\n",
    "plt.plot(aitime,aidata[1],'r')"
   ]
  },
  {
   "cell_type": "code",
   "execution_count": null,
   "id": "fb91c2e5",
   "metadata": {},
   "outputs": [],
   "source": [
    "daq.ai.stop()"
   ]
  },
  {
   "cell_type": "code",
   "execution_count": null,
   "id": "9406f141",
   "metadata": {},
   "outputs": [],
   "source": [
    "len(daq.ai.data)"
   ]
  },
  {
   "cell_type": "code",
   "execution_count": null,
   "id": "1ca302e6",
   "metadata": {},
   "outputs": [],
   "source": [
    "aitime, aidata = daq.ai.getdata()\n",
    "\n",
    "plt.figure()\n",
    "# plt.plot(aitime,aidata[0])\n",
    "# plt.plot(aitime,aidata[1],'r')\n",
    "plt.plot(daq.ai.data[0])\n",
    "plt.plot(daq.ai.data[1],'r')"
   ]
  },
  {
   "cell_type": "markdown",
   "id": "3f7a856d",
   "metadata": {},
   "source": [
    "### Set up AI"
   ]
  },
  {
   "cell_type": "code",
   "execution_count": null,
   "id": "a1ae9df5-cca3-4b58-91bf-cdfe17f7047b",
   "metadata": {},
   "outputs": [],
   "source": [
    "aidata = [[],[]]\n",
    "aitime = []\n",
    "daq.ai.sampleRate = 10000 # Hz/channel\n",
    "daq.ai.grounding = 'single-ended' #e.g. single_ended\n",
    "daq.ai.iscontinuous = True # if True -> Inf\n",
    "#daq.ai.trigType = 'instant'\n",
    "#daq.ai.trigType = 'digital-positive-edge'\n",
    "daq.ai.trigRepeat = 1\n",
    "daq.ai.trigFcn = (foo,'AItrig')\n",
    "daq.ai.samplesPerTrig = 6000 # in samples/channel\n",
    "daq.ai.samplesAcquiredFcnCount = 3000 # in samples/channel; 0 means no function to be called\n",
    "#daq.ai.samplesAcquiredFcn = (foo,) # ',' makes it a tuple\n",
    "daq.ai.samplesAcquiredFcn = (collectdata,(daq.ai,daq.ai.samplesAcquiredFcnCount))\n",
    "#daq.ai.samplesAcquiredFcn = None\n",
    "daq.ai.startFcn = (foo,'AIstart')\n",
    "daq.ai.stopFcn = (foo,'AIstop')\n",
    "#daq.ai.aqMode = 'foreground' # acquisition mode\n",
    "daq.ai.aqMode = 'background' # acquisition mode  "
   ]
  },
  {
   "cell_type": "markdown",
   "id": "97847171",
   "metadata": {},
   "source": [
    "### Set up AO"
   ]
  },
  {
   "cell_type": "code",
   "execution_count": null,
   "id": "67dbf630-35bf-46c9-9c02-6f5624a4389b",
   "metadata": {},
   "outputs": [],
   "source": [
    "# Parameters\n",
    "F1 = 10  # Hz\n",
    "A1 = 5.0  # +/- amplitude\n",
    "offset1 = 0  # No offset\n",
    "aoSR = 5*1000  # Hz\n",
    "duration = 1 # sec\n",
    "num_samples = int(aoSR * duration) # 1 sec of data\n",
    "\n",
    "# Generate a sine wave buffer\n",
    "t = np.linspace(0, duration, num_samples, endpoint=False)  # Time vector for cycle * one period\n",
    "aodata = np.zeros((2,int(aoSR * duration))) #2 channels\n",
    "aodata[0,0:5] = 5 #trigger points\n",
    "aodata[1,:] = A1 * np.sin(2 * np.pi * F1 * t) + offset1 #sine wave\n",
    "\n",
    "# Plotting\n",
    "# fig = plt.figure()\n",
    "# plt.plot(t,aodata[0,:])\n",
    "# plt.plot(t,aodata[1,:],color = 'r')\n",
    "# plt.grid(True)\n",
    "# fig.canvas.toolbar_position = 'top'\n",
    "\n",
    "# Prep AO\n",
    "daq.ao.sampleRate = aoSR\n",
    "daq.ao.endMode = 'zero'\n",
    "daq.ao.startFcn = (foo,'AOstart')\n",
    "daq.ao.stopFcn = (foo,'AOstop')\n",
    "\n",
    "daq.ao.putdata(aodata)"
   ]
  },
  {
   "cell_type": "markdown",
   "id": "64f417bc-291e-4308-898e-99c777ba516e",
   "metadata": {},
   "source": [
    "### Start AI,AO"
   ]
  },
  {
   "cell_type": "code",
   "execution_count": null,
   "id": "b030c6ac-1d15-46a9-8124-72e768e577c4",
   "metadata": {},
   "outputs": [],
   "source": [
    "aitime = []\n",
    "aidata = [[],[]]\n",
    "daq.ai.start()\n",
    "daq.ao.start()"
   ]
  },
  {
   "cell_type": "code",
   "execution_count": null,
   "id": "fab3efd4",
   "metadata": {},
   "outputs": [],
   "source": [
    "daq.ai.stop()\n",
    "daq.ao.stop()"
   ]
  },
  {
   "cell_type": "code",
   "execution_count": null,
   "id": "b127d930",
   "metadata": {},
   "outputs": [],
   "source": [
    "# print(len(daq.ai.data[0]))\n",
    "# print(len(daq.ai.data[1]))\n",
    "# plt.figure()\n",
    "# plt.plot(daq.ai.data[0])\n",
    "# plt.plot(daq.ai.data[1],'r')\n",
    "\n",
    "plt.figure()\n",
    "plt.plot(aitime,aidata[0])\n",
    "plt.plot(aitime,aidata[1],'r')"
   ]
  },
  {
   "cell_type": "code",
   "execution_count": null,
   "id": "d371bae0",
   "metadata": {},
   "outputs": [],
   "source": [
    "t0 = daq.ai._trigTime[0]\n",
    "trigtime = [t-t0 for t in daq.ai._trigTime]\n",
    "print(trigtime)"
   ]
  },
  {
   "cell_type": "code",
   "execution_count": null,
   "id": "559b6a7e-955a-4f42-930f-ea03ed00b7c0",
   "metadata": {},
   "outputs": [],
   "source": [
    "plt.close('all')"
   ]
  }
 ],
 "metadata": {
  "kernelspec": {
   "display_name": "daqx",
   "language": "python",
   "name": "python3"
  },
  "language_info": {
   "codemirror_mode": {
    "name": "ipython",
    "version": 3
   },
   "file_extension": ".py",
   "mimetype": "text/x-python",
   "name": "python",
   "nbconvert_exporter": "python",
   "pygments_lexer": "ipython3",
   "version": "3.13.0"
  }
 },
 "nbformat": 4,
 "nbformat_minor": 5
}
